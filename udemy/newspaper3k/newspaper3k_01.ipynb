{
 "cells": [
  {
   "cell_type": "code",
   "execution_count": 1,
   "metadata": {},
   "outputs": [],
   "source": [
    "from newspaper import Article"
   ]
  },
  {
   "cell_type": "code",
   "execution_count": 2,
   "metadata": {},
   "outputs": [],
   "source": [
    "URL = 'https://jp.reuters.com/markets/japan/FTO25B4OQNPJ3NZRVR2TW5TY7U-2024-01-03/'"
   ]
  },
  {
   "cell_type": "code",
   "execution_count": 3,
   "metadata": {},
   "outputs": [],
   "source": [
    "article = Article(URL)"
   ]
  },
  {
   "cell_type": "code",
   "execution_count": 4,
   "metadata": {},
   "outputs": [],
   "source": [
    "article.download()"
   ]
  },
  {
   "cell_type": "code",
   "execution_count": 5,
   "metadata": {},
   "outputs": [],
   "source": [
    "article.parse()"
   ]
  },
  {
   "cell_type": "code",
   "execution_count": 6,
   "metadata": {},
   "outputs": [
    {
     "data": {
      "text/plain": [
       "datetime.datetime(2024, 1, 3, 0, 0)"
      ]
     },
     "execution_count": 6,
     "metadata": {},
     "output_type": "execute_result"
    }
   ],
   "source": [
    "article.publish_date"
   ]
  },
  {
   "cell_type": "code",
   "execution_count": 7,
   "metadata": {},
   "outputs": [
    {
     "data": {
      "text/plain": [
       "['Shankar Ramakrishnan Davide Barbuscia',\n",
       " 'Shankar Ramakrishnan',\n",
       " 'Davide Barbuscia',\n",
       " 'トムソン ロイター',\n",
       " 'Shankar Ramakrishnan Has Nearly Years Of Financial Journalism Experience In Writing',\n",
       " 'Editing Managing',\n",
       " 'Building Teams Across Asia',\n",
       " 'The U.S. He Is Responsible For Coverage Of Investment-Banking Products In His Current Role That Includes Global Stories On Investment-Grade',\n",
       " 'High-Yield',\n",
       " 'Structured Finance']"
      ]
     },
     "execution_count": 7,
     "metadata": {},
     "output_type": "execute_result"
    }
   ],
   "source": [
    "article.authors"
   ]
  },
  {
   "cell_type": "code",
   "execution_count": 10,
   "metadata": {},
   "outputs": [
    {
     "data": {
      "text/plain": [
       "'１月２日、米社債市場では投資適格企業１６社が総額２９０億ドル以上を調達、２０２４年は上々の滑り出しとなった。写真はドル紙幣。ソウルで２０１１年２月撮影（２０２４年 ロイター／Lee Jae-Won）\\n\\n［２日 ロイター］ - 米社債市場では２日、投資適格企業１６社が総額２９０億ドル以上を調達、２０２４年は上々の滑り出しとなった。\\n\\n１６社は、トヨタ・モーター・クレジット(TOYOM.UL)、フォード・モーター・クレジット(FMCR.UL)などの国内企業やＵＢＳ(UBSAG.UL)、ＢＮＰパリバ(BNPP.PA)、ロイズ・バンキング・グループ(LLOY.L)などの欧州銀行。\\n\\nこれらの企業は今年と来年に大量の償還を予定しており、米国債利回りが低く、プレミアム（上乗せ金利）がタイトな環境で大半を借り換えようとしていた。シティのリサーチノートによると、２４年の償還到来は約７８００億ドル、２５年は１兆ドルという。\\n\\nインフォーマ・グローバル・マーケッツによると、債券シンジケート・デスクが見込む第１週の投資適格債発行水準は平均６３０億ドル近く。過去５年の同期の平均５００億ドルを上回る。昨年は３７社が５８０億ドル調達した。\\n\\nＢＭＯキャピタル・マーケッツのクレジット・ストラテジスト、ダン・クライター氏はメモで「１月の季節的好パフォーマンスは、今年利回りが低下するとの観測でさらに強まり、年序盤に需要が急増する可能性が高い」と述べた。\\n\\nシティによると２４年の総発行額は１兆３０００億ドルで２３年の１兆２０００億ドルを上回る見込み。ただ償還や買い戻しなどを差し引いたネットでは４７５０億ドルとなり２３年の約５０００億ドルを下回るという。\\n\\n※関連情報は画面右側にある「関連コンテンツ」メニューからご覧ください。\\n\\n私たちの行動規範：トムソン・ロイター「信頼の原則」\\n\\n\\n\\n\\n\\n\\n\\n\\n\\n'"
      ]
     },
     "execution_count": 10,
     "metadata": {},
     "output_type": "execute_result"
    }
   ],
   "source": [
    "article.text"
   ]
  },
  {
   "cell_type": "code",
   "execution_count": 11,
   "metadata": {},
   "outputs": [
    {
     "data": {
      "text/plain": [
       "'米社債市場、活況スタート 初日に投資適格級290億ドル発行'"
      ]
     },
     "execution_count": 11,
     "metadata": {},
     "output_type": "execute_result"
    }
   ],
   "source": [
    "article.title"
   ]
  },
  {
   "cell_type": "code",
   "execution_count": 12,
   "metadata": {},
   "outputs": [
    {
     "name": "stderr",
     "output_type": "stream",
     "text": [
      "[nltk_data] Downloading package punkt to\n",
      "[nltk_data]     /Users/kuramotoyuuta/nltk_data...\n",
      "[nltk_data]   Unzipping tokenizers/punkt.zip.\n"
     ]
    },
    {
     "data": {
      "text/plain": [
       "True"
      ]
     },
     "execution_count": 12,
     "metadata": {},
     "output_type": "execute_result"
    }
   ],
   "source": [
    "import nltk\n",
    "nltk.download('punkt')"
   ]
  },
  {
   "cell_type": "code",
   "execution_count": 13,
   "metadata": {},
   "outputs": [],
   "source": [
    "article.nlp()"
   ]
  },
  {
   "cell_type": "code",
   "execution_count": 14,
   "metadata": {},
   "outputs": [
    {
     "data": {
      "text/plain": [
       "['ロイター',\n",
       " 'jaewon２日',\n",
       " 'ロイターlee',\n",
       " '初日に投資適格級290億ドル発行',\n",
       " '米社債市場活況スタート',\n",
       " '１月２日米社債市場では投資適格企業１６社が総額２９０億ドル以上を調達２０２４年は上々の滑り出しとなった写真はドル紙幣ソウルで２０１１年２月撮影２０２４年',\n",
       " '米社債市場では２日投資適格企業１６社が総額２９０億ドル以上を調達２０２４年は上々の滑り出しとなった１６社はトヨタモータークレジットtoyomulフォードモータークレジットfmcrulなどの国内企業やｕｂｓubsagulｂｎｐパリバbnpppaロイズバンキンググループlloylなどの欧州銀行これらの企業は今年と来年に大量の償還を予定しており米国債利回りが低くプレミアム上乗せ金利がタイトな環境で大半を借り換えようとしていたシティのリサーチノートによると２４年の償還到来は約７８００億ドル２５年は１兆ドルというインフォーマグローバルマーケッツによると債券シンジケートデスクが見込む第１週の投資適格債発行水準は平均６３０億ドル近く過去５年の同期の平均５００億ドルを上回る昨年は３７社が５８０億ドル調達したｂｍｏキャピタルマーケッツのクレジットストラテジストダンクライター氏はメモで１月の季節的好パフォーマンスは今年利回りが低下するとの観測でさらに強まり年序盤に需要が急増する可能性が高いと述べたシティによると２４年の総発行額は１兆３０００億ドルで２３年の１兆２０００億ドルを上回る見込みただ償還や買い戻しなどを差し引いたネットでは４７５０億ドルとなり２３年の約５０００億ドルを下回るという関連情報は画面右側にある関連コンテンツメニューからご覧ください私たちの行動規範トムソンロイター信頼の原則']"
      ]
     },
     "execution_count": 14,
     "metadata": {},
     "output_type": "execute_result"
    }
   ],
   "source": [
    "article.keywords"
   ]
  },
  {
   "cell_type": "code",
   "execution_count": 15,
   "metadata": {},
   "outputs": [
    {
     "data": {
      "text/plain": [
       "'１月２日、米社債市場では投資適格企業１６社が総額２９０億ドル以上を調達、２０２４年は上々の滑り出しとなった。写真はドル紙幣。ソウルで２０１１年２月撮影（２０２４年 ロイター／Lee Jae-Won）［２日 ロイター］ - 米社債市場では２日、投資適格企業１６社が総額２９０億ドル以上を調達、２０２４年は上々の滑り出しとなった。１６社は、トヨタ・モーター・クレジット(TOYOM.UL)、フォード・モーター・クレジット(FMCR.UL)などの国内企業やＵＢＳ(UBSAG.UL)、ＢＮＰパリバ(BNPP.PA)、ロイズ・バンキング・グループ(LLOY.L)などの欧州銀行。これらの企業は今年と来年に大量の償還を予定しており、米国債利回りが低く、プレミアム（上乗せ金利）がタイトな環境で大半を借り換えようとしていた。シティのリサーチノートによると、２４年の償還到来は約７８００億ドル、２５年は１兆ドルという。インフォーマ・グローバル・マーケッツによると、債券シンジケート・デスクが見込む第１週の投資適格債発行水準は平均６３０億ドル近く。過去５年の同期の平均５００億ドルを上回る。昨年は３７社が５８０億ドル調達した。ＢＭＯキャピタル・マーケッツのクレジット・ストラテジスト、ダン・クライター氏はメモで「１月の季節的好パフォーマンスは、今年利回りが低下するとの観測でさらに強まり、年序盤に需要が急増する可能性が高い」と述べた。シティによると２４年の総発行額は１兆３０００億ドルで２３年の１兆２０００億ドルを上回る見込み。ただ償還や買い戻しなどを差し引いたネットでは４７５０億ドルとなり２３年の約５０００億ドルを下回るという。※関連情報は画面右側にある「関連コンテンツ」メニューからご覧ください。私たちの行動規範：トムソン・ロイター「信頼の原則」'"
      ]
     },
     "execution_count": 15,
     "metadata": {},
     "output_type": "execute_result"
    }
   ],
   "source": [
    "article.summary"
   ]
  },
  {
   "cell_type": "code",
   "execution_count": 16,
   "metadata": {},
   "outputs": [
    {
     "data": {
      "text/plain": [
       "'１月２日、米社債市場では投資適格企業１６社が総額２９０億ドル以上を調達、２０２４年は上々の滑り出しとなった。写真はドル紙幣。ソウルで２０１１年２月撮影（２０２４年 ロイター／Lee Jae-Won）［２日 ロイター］ - 米社債市場では２日、投資適格企業１６社が総額２９０億ドル以上を調達、２０２４年は上々の滑り出しとなった。１６社は、トヨタ・モーター・クレジット(TOYOM.UL)、フォード・モーター・クレジット(FMCR.UL)などの国内企業やＵＢＳ(UBSAG.UL)、ＢＮＰパリバ(BNPP.PA)、ロイズ・バンキング・グループ(LLOY.L)などの欧州銀行。これらの企業は今年と来年に大量の償還を予定しており、米国債利回りが低く、プレミアム（上乗せ金利）がタイトな環境で大半を借り換えようとしていた。シティのリサーチノートによると、２４年の償還到来は約７８００億ドル、２５年は１兆ドルという。インフォーマ・グローバル・マーケッツによると、債券シンジケート・デスクが見込む第１週の投資適格債発行水準は平均６３０億ドル近く。過去５年の同期の平均５００億ドルを上回る。昨年は３７社が５８０億ドル調達した。ＢＭＯキャピタル・マーケッツのクレジット・ストラテジスト、ダン・クライター氏はメモで「１月の季節的好パフォーマンスは、今年利回りが低下するとの観測でさらに強まり、年序盤に需要が急増する可能性が高い」と述べた。シティによると２４年の総発行額は１兆３０００億ドルで２３年の１兆２０００億ドルを上回る見込み。ただ償還や買い戻しなどを差し引いたネットでは４７５０億ドルとなり２３年の約５０００億ドルを下回るという。※関連情報は画面右側にある「関連コンテンツ」メニューからご覧ください。私たちの行動規範：トムソン・ロイター「信頼の原則」'"
      ]
     },
     "execution_count": 16,
     "metadata": {},
     "output_type": "execute_result"
    }
   ],
   "source": [
    "article.summary.replace('\\n', '')"
   ]
  }
 ],
 "metadata": {
  "kernelspec": {
   "display_name": "Python 3",
   "language": "python",
   "name": "python3"
  },
  "language_info": {
   "codemirror_mode": {
    "name": "ipython",
    "version": 3
   },
   "file_extension": ".py",
   "mimetype": "text/x-python",
   "name": "python",
   "nbconvert_exporter": "python",
   "pygments_lexer": "ipython3",
   "version": "3.9.16"
  }
 },
 "nbformat": 4,
 "nbformat_minor": 2
}
