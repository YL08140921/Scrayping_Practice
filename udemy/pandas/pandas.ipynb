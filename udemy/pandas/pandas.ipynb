{
 "cells": [
  {
   "cell_type": "code",
   "execution_count": 1,
   "metadata": {},
   "outputs": [],
   "source": [
    "import pandas as pd"
   ]
  },
  {
   "cell_type": "code",
   "execution_count": 2,
   "metadata": {},
   "outputs": [],
   "source": [
    "url = 'https://finance.yahoo.co.jp/quote/AAPL/history'"
   ]
  },
  {
   "cell_type": "code",
   "execution_count": 3,
   "metadata": {},
   "outputs": [],
   "source": [
    "import requests\n",
    "\n",
    "data = pd.read_html(requests.get(url, headers={'User-agent': 'Mozilla/5.0'}).text,header=0)"
   ]
  },
  {
   "cell_type": "code",
   "execution_count": 4,
   "metadata": {},
   "outputs": [
    {
     "data": {
      "text/html": [
       "<div>\n",
       "<style scoped>\n",
       "    .dataframe tbody tr th:only-of-type {\n",
       "        vertical-align: middle;\n",
       "    }\n",
       "\n",
       "    .dataframe tbody tr th {\n",
       "        vertical-align: top;\n",
       "    }\n",
       "\n",
       "    .dataframe thead th {\n",
       "        text-align: right;\n",
       "    }\n",
       "</style>\n",
       "<table border=\"1\" class=\"dataframe\">\n",
       "  <thead>\n",
       "    <tr style=\"text-align: right;\">\n",
       "      <th></th>\n",
       "      <th>日付</th>\n",
       "      <th>始値</th>\n",
       "      <th>高値</th>\n",
       "      <th>安値</th>\n",
       "      <th>終値</th>\n",
       "      <th>出来高</th>\n",
       "      <th>調整後終値*</th>\n",
       "    </tr>\n",
       "  </thead>\n",
       "  <tbody>\n",
       "    <tr>\n",
       "      <th>0</th>\n",
       "      <td>2024年1月2日</td>\n",
       "      <td>187.15</td>\n",
       "      <td>188.44</td>\n",
       "      <td>183.89</td>\n",
       "      <td>185.64</td>\n",
       "      <td>82488674</td>\n",
       "      <td>185.64</td>\n",
       "    </tr>\n",
       "    <tr>\n",
       "      <th>1</th>\n",
       "      <td>2023年12月29日</td>\n",
       "      <td>193.90</td>\n",
       "      <td>194.40</td>\n",
       "      <td>191.73</td>\n",
       "      <td>192.53</td>\n",
       "      <td>42672148</td>\n",
       "      <td>192.53</td>\n",
       "    </tr>\n",
       "    <tr>\n",
       "      <th>2</th>\n",
       "      <td>2023年12月28日</td>\n",
       "      <td>194.14</td>\n",
       "      <td>194.66</td>\n",
       "      <td>193.17</td>\n",
       "      <td>193.58</td>\n",
       "      <td>34049898</td>\n",
       "      <td>193.58</td>\n",
       "    </tr>\n",
       "    <tr>\n",
       "      <th>3</th>\n",
       "      <td>2023年12月27日</td>\n",
       "      <td>192.49</td>\n",
       "      <td>193.50</td>\n",
       "      <td>191.09</td>\n",
       "      <td>193.15</td>\n",
       "      <td>48087681</td>\n",
       "      <td>193.15</td>\n",
       "    </tr>\n",
       "    <tr>\n",
       "      <th>4</th>\n",
       "      <td>2023年12月26日</td>\n",
       "      <td>193.61</td>\n",
       "      <td>193.89</td>\n",
       "      <td>192.83</td>\n",
       "      <td>193.05</td>\n",
       "      <td>28919310</td>\n",
       "      <td>193.05</td>\n",
       "    </tr>\n",
       "  </tbody>\n",
       "</table>\n",
       "</div>"
      ],
      "text/plain": [
       "            日付      始値      高値      安値      終値       出来高  調整後終値*\n",
       "0    2024年1月2日  187.15  188.44  183.89  185.64  82488674  185.64\n",
       "1  2023年12月29日  193.90  194.40  191.73  192.53  42672148  192.53\n",
       "2  2023年12月28日  194.14  194.66  193.17  193.58  34049898  193.58\n",
       "3  2023年12月27日  192.49  193.50  191.09  193.15  48087681  193.15\n",
       "4  2023年12月26日  193.61  193.89  192.83  193.05  28919310  193.05"
      ]
     },
     "execution_count": 4,
     "metadata": {},
     "output_type": "execute_result"
    }
   ],
   "source": [
    "data[0].head()"
   ]
  },
  {
   "cell_type": "code",
   "execution_count": 5,
   "metadata": {},
   "outputs": [
    {
     "data": {
      "text/html": [
       "<div>\n",
       "<style scoped>\n",
       "    .dataframe tbody tr th:only-of-type {\n",
       "        vertical-align: middle;\n",
       "    }\n",
       "\n",
       "    .dataframe tbody tr th {\n",
       "        vertical-align: top;\n",
       "    }\n",
       "\n",
       "    .dataframe thead th {\n",
       "        text-align: right;\n",
       "    }\n",
       "</style>\n",
       "<table border=\"1\" class=\"dataframe\">\n",
       "  <thead>\n",
       "    <tr style=\"text-align: right;\">\n",
       "      <th></th>\n",
       "      <th>日付</th>\n",
       "      <th>始値</th>\n",
       "      <th>高値</th>\n",
       "      <th>安値</th>\n",
       "      <th>終値</th>\n",
       "      <th>出来高</th>\n",
       "      <th>調整後終値*</th>\n",
       "    </tr>\n",
       "  </thead>\n",
       "  <tbody>\n",
       "    <tr>\n",
       "      <th>15</th>\n",
       "      <td>2023年12月8日</td>\n",
       "      <td>194.20</td>\n",
       "      <td>195.99</td>\n",
       "      <td>193.67</td>\n",
       "      <td>195.71</td>\n",
       "      <td>53406358</td>\n",
       "      <td>195.71</td>\n",
       "    </tr>\n",
       "    <tr>\n",
       "      <th>16</th>\n",
       "      <td>2023年12月7日</td>\n",
       "      <td>193.63</td>\n",
       "      <td>195.00</td>\n",
       "      <td>193.59</td>\n",
       "      <td>194.27</td>\n",
       "      <td>47477655</td>\n",
       "      <td>194.27</td>\n",
       "    </tr>\n",
       "    <tr>\n",
       "      <th>17</th>\n",
       "      <td>2023年12月6日</td>\n",
       "      <td>194.45</td>\n",
       "      <td>194.76</td>\n",
       "      <td>192.11</td>\n",
       "      <td>192.32</td>\n",
       "      <td>41089737</td>\n",
       "      <td>192.32</td>\n",
       "    </tr>\n",
       "    <tr>\n",
       "      <th>18</th>\n",
       "      <td>2023年12月5日</td>\n",
       "      <td>190.21</td>\n",
       "      <td>194.40</td>\n",
       "      <td>190.18</td>\n",
       "      <td>193.42</td>\n",
       "      <td>66628398</td>\n",
       "      <td>193.42</td>\n",
       "    </tr>\n",
       "    <tr>\n",
       "      <th>19</th>\n",
       "      <td>2023年12月4日</td>\n",
       "      <td>189.98</td>\n",
       "      <td>190.05</td>\n",
       "      <td>187.45</td>\n",
       "      <td>189.43</td>\n",
       "      <td>43389519</td>\n",
       "      <td>189.43</td>\n",
       "    </tr>\n",
       "  </tbody>\n",
       "</table>\n",
       "</div>"
      ],
      "text/plain": [
       "            日付      始値      高値      安値      終値       出来高  調整後終値*\n",
       "15  2023年12月8日  194.20  195.99  193.67  195.71  53406358  195.71\n",
       "16  2023年12月7日  193.63  195.00  193.59  194.27  47477655  194.27\n",
       "17  2023年12月6日  194.45  194.76  192.11  192.32  41089737  192.32\n",
       "18  2023年12月5日  190.21  194.40  190.18  193.42  66628398  193.42\n",
       "19  2023年12月4日  189.98  190.05  187.45  189.43  43389519  189.43"
      ]
     },
     "execution_count": 5,
     "metadata": {},
     "output_type": "execute_result"
    }
   ],
   "source": [
    "data[0].tail()"
   ]
  },
  {
   "cell_type": "code",
   "execution_count": 6,
   "metadata": {},
   "outputs": [],
   "source": [
    "data[0]['調整後終値*'] = pd.to_numeric(data[0]['調整後終値*'], errors='coerce')"
   ]
  },
  {
   "cell_type": "code",
   "execution_count": 7,
   "metadata": {},
   "outputs": [],
   "source": [
    "data[0].dropna(inplace=True)"
   ]
  },
  {
   "cell_type": "code",
   "execution_count": 8,
   "metadata": {},
   "outputs": [],
   "source": [
    "from datetime import datetime as dt"
   ]
  },
  {
   "cell_type": "code",
   "execution_count": 9,
   "metadata": {},
   "outputs": [],
   "source": [
    "data[0]['日付2'] = [dt.strptime(i, '%Y年%m月%d日') for i in data[0]['日付']]"
   ]
  },
  {
   "cell_type": "code",
   "execution_count": 10,
   "metadata": {},
   "outputs": [
    {
     "data": {
      "text/plain": [
       "0    2024-01-02\n",
       "1    2023-12-29\n",
       "2    2023-12-28\n",
       "3    2023-12-27\n",
       "4    2023-12-26\n",
       "5    2023-12-22\n",
       "6    2023-12-21\n",
       "7    2023-12-20\n",
       "8    2023-12-19\n",
       "9    2023-12-18\n",
       "10   2023-12-15\n",
       "11   2023-12-14\n",
       "12   2023-12-13\n",
       "13   2023-12-12\n",
       "14   2023-12-11\n",
       "15   2023-12-08\n",
       "16   2023-12-07\n",
       "17   2023-12-06\n",
       "18   2023-12-05\n",
       "19   2023-12-04\n",
       "Name: 日付2, dtype: datetime64[ns]"
      ]
     },
     "execution_count": 10,
     "metadata": {},
     "output_type": "execute_result"
    }
   ],
   "source": [
    "data[0]['日付2']"
   ]
  },
  {
   "cell_type": "code",
   "execution_count": 11,
   "metadata": {},
   "outputs": [],
   "source": [
    "data[0].set_index('日付2', inplace=True)"
   ]
  },
  {
   "cell_type": "code",
   "execution_count": 12,
   "metadata": {},
   "outputs": [
    {
     "data": {
      "text/html": [
       "<div>\n",
       "<style scoped>\n",
       "    .dataframe tbody tr th:only-of-type {\n",
       "        vertical-align: middle;\n",
       "    }\n",
       "\n",
       "    .dataframe tbody tr th {\n",
       "        vertical-align: top;\n",
       "    }\n",
       "\n",
       "    .dataframe thead th {\n",
       "        text-align: right;\n",
       "    }\n",
       "</style>\n",
       "<table border=\"1\" class=\"dataframe\">\n",
       "  <thead>\n",
       "    <tr style=\"text-align: right;\">\n",
       "      <th></th>\n",
       "      <th>日付</th>\n",
       "      <th>始値</th>\n",
       "      <th>高値</th>\n",
       "      <th>安値</th>\n",
       "      <th>終値</th>\n",
       "      <th>出来高</th>\n",
       "      <th>調整後終値*</th>\n",
       "    </tr>\n",
       "    <tr>\n",
       "      <th>日付2</th>\n",
       "      <th></th>\n",
       "      <th></th>\n",
       "      <th></th>\n",
       "      <th></th>\n",
       "      <th></th>\n",
       "      <th></th>\n",
       "      <th></th>\n",
       "    </tr>\n",
       "  </thead>\n",
       "  <tbody>\n",
       "    <tr>\n",
       "      <th>2024-01-02</th>\n",
       "      <td>2024年1月2日</td>\n",
       "      <td>187.15</td>\n",
       "      <td>188.44</td>\n",
       "      <td>183.89</td>\n",
       "      <td>185.64</td>\n",
       "      <td>82488674</td>\n",
       "      <td>185.64</td>\n",
       "    </tr>\n",
       "    <tr>\n",
       "      <th>2023-12-29</th>\n",
       "      <td>2023年12月29日</td>\n",
       "      <td>193.90</td>\n",
       "      <td>194.40</td>\n",
       "      <td>191.73</td>\n",
       "      <td>192.53</td>\n",
       "      <td>42672148</td>\n",
       "      <td>192.53</td>\n",
       "    </tr>\n",
       "    <tr>\n",
       "      <th>2023-12-28</th>\n",
       "      <td>2023年12月28日</td>\n",
       "      <td>194.14</td>\n",
       "      <td>194.66</td>\n",
       "      <td>193.17</td>\n",
       "      <td>193.58</td>\n",
       "      <td>34049898</td>\n",
       "      <td>193.58</td>\n",
       "    </tr>\n",
       "    <tr>\n",
       "      <th>2023-12-27</th>\n",
       "      <td>2023年12月27日</td>\n",
       "      <td>192.49</td>\n",
       "      <td>193.50</td>\n",
       "      <td>191.09</td>\n",
       "      <td>193.15</td>\n",
       "      <td>48087681</td>\n",
       "      <td>193.15</td>\n",
       "    </tr>\n",
       "    <tr>\n",
       "      <th>2023-12-26</th>\n",
       "      <td>2023年12月26日</td>\n",
       "      <td>193.61</td>\n",
       "      <td>193.89</td>\n",
       "      <td>192.83</td>\n",
       "      <td>193.05</td>\n",
       "      <td>28919310</td>\n",
       "      <td>193.05</td>\n",
       "    </tr>\n",
       "  </tbody>\n",
       "</table>\n",
       "</div>"
      ],
      "text/plain": [
       "                     日付      始値      高値      安値      終値       出来高  調整後終値*\n",
       "日付2                                                                      \n",
       "2024-01-02    2024年1月2日  187.15  188.44  183.89  185.64  82488674  185.64\n",
       "2023-12-29  2023年12月29日  193.90  194.40  191.73  192.53  42672148  192.53\n",
       "2023-12-28  2023年12月28日  194.14  194.66  193.17  193.58  34049898  193.58\n",
       "2023-12-27  2023年12月27日  192.49  193.50  191.09  193.15  48087681  193.15\n",
       "2023-12-26  2023年12月26日  193.61  193.89  192.83  193.05  28919310  193.05"
      ]
     },
     "execution_count": 12,
     "metadata": {},
     "output_type": "execute_result"
    }
   ],
   "source": [
    "data[0].head()"
   ]
  },
  {
   "cell_type": "code",
   "execution_count": 13,
   "metadata": {},
   "outputs": [
    {
     "data": {
      "text/plain": [
       "dtype('float64')"
      ]
     },
     "execution_count": 13,
     "metadata": {},
     "output_type": "execute_result"
    }
   ],
   "source": [
    "data[0]['調整後終値*'].dtype"
   ]
  },
  {
   "cell_type": "code",
   "execution_count": 14,
   "metadata": {},
   "outputs": [
    {
     "data": {
      "text/plain": [
       "<Axes: title={'center': 'AAPL Stock Price'}, xlabel='日付2'>"
      ]
     },
     "execution_count": 14,
     "metadata": {},
     "output_type": "execute_result"
    },
    {
     "name": "stderr",
     "output_type": "stream",
     "text": [
      "/Users/kuramotoyuuta/.pyenv/versions/3.9.16/lib/python3.9/site-packages/IPython/core/events.py:89: UserWarning: Glyph 26085 (\\N{CJK UNIFIED IDEOGRAPH-65E5}) missing from current font.\n",
      "  func(*args, **kwargs)\n",
      "/Users/kuramotoyuuta/.pyenv/versions/3.9.16/lib/python3.9/site-packages/IPython/core/events.py:89: UserWarning: Glyph 20184 (\\N{CJK UNIFIED IDEOGRAPH-4ED8}) missing from current font.\n",
      "  func(*args, **kwargs)\n",
      "/Users/kuramotoyuuta/.pyenv/versions/3.9.16/lib/python3.9/site-packages/IPython/core/pylabtools.py:152: UserWarning: Glyph 26085 (\\N{CJK UNIFIED IDEOGRAPH-65E5}) missing from current font.\n",
      "  fig.canvas.print_figure(bytes_io, **kw)\n",
      "/Users/kuramotoyuuta/.pyenv/versions/3.9.16/lib/python3.9/site-packages/IPython/core/pylabtools.py:152: UserWarning: Glyph 20184 (\\N{CJK UNIFIED IDEOGRAPH-4ED8}) missing from current font.\n",
      "  fig.canvas.print_figure(bytes_io, **kw)\n"
     ]
    },
    {
     "data": {
      "image/png": "[encoded data removed]",
      "text/plain": [
       "<Figure size 640x480 with 1 Axes>"
      ]
     },
     "metadata": {},
     "output_type": "display_data"
    }
   ],
   "source": [
    "data[0]['調整後終値*'].plot(title='AAPL Stock Price', grid=True)"
   ]
  },
  {
   "cell_type": "code",
   "execution_count": 15,
   "metadata": {},
   "outputs": [],
   "source": [
    "data[0].to_csv('AAPL_Stock.csv')"
   ]
  }
 ],
 "metadata": {
  "kernelspec": {
   "display_name": "Python 3",
   "language": "python",
   "name": "python3"
  },
  "language_info": {
   "codemirror_mode": {
    "name": "ipython",
    "version": 3
   },
   "file_extension": ".py",
   "mimetype": "text/x-python",
   "name": "python",
   "nbconvert_exporter": "python",
   "pygments_lexer": "ipython3",
   "version": "3.9.16"
  }
 },
 "nbformat": 4,
 "nbformat_minor": 2
}
