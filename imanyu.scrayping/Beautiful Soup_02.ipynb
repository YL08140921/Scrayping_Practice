{
 "cells": [
  {
   "cell_type": "code",
   "execution_count": 1,
   "metadata": {},
   "outputs": [],
   "source": [
    "import requests\n",
    "from bs4 import BeautifulSoup"
   ]
  },
  {
   "cell_type": "code",
   "execution_count": 2,
   "metadata": {},
   "outputs": [],
   "source": [
    "url = 'https://scraping-for-beginner.herokuapp.com/ranking/'\n",
    "res = requests.get(url)"
   ]
  },
  {
   "cell_type": "code",
   "execution_count": 3,
   "metadata": {},
   "outputs": [
    {
     "data": {
      "text/plain": [
       "<Response [200]>"
      ]
     },
     "execution_count": 3,
     "metadata": {},
     "output_type": "execute_result"
    }
   ],
   "source": [
    "res"
   ]
  },
  {
   "cell_type": "code",
   "execution_count": 4,
   "metadata": {},
   "outputs": [],
   "source": [
    "soup = BeautifulSoup(res.text, 'html.parser')"
   ]
  },
  {
   "cell_type": "code",
   "execution_count": 5,
   "metadata": {},
   "outputs": [
    {
     "data": {
      "text/plain": [
       "<div class=\"u_title col s12\">\n",
       "<p><h2><span class=\"badge\">1</span>観光地 1</h2></p>\n",
       "</div>"
      ]
     },
     "execution_count": 5,
     "metadata": {},
     "output_type": "execute_result"
    }
   ],
   "source": [
    "# 観光地名\n",
    "spots = soup.find_all('div', attrs={'class':'u_areaListRankingBox'})\n",
    "spot = spots[0]\n",
    "spot_name = spot.find('div', attrs={'class':'u_title'})\n",
    "spot_name"
   ]
  },
  {
   "cell_type": "code",
   "execution_count": 6,
   "metadata": {},
   "outputs": [
    {
     "data": {
      "text/plain": [
       "'\\n1観光地 1\\n'"
      ]
     },
     "execution_count": 6,
     "metadata": {},
     "output_type": "execute_result"
    }
   ],
   "source": [
    "spot_name.text"
   ]
  },
  {
   "cell_type": "code",
   "execution_count": 7,
   "metadata": {},
   "outputs": [
    {
     "data": {
      "text/plain": [
       "<span class=\"badge\">1</span>"
      ]
     },
     "execution_count": 7,
     "metadata": {},
     "output_type": "execute_result"
    }
   ],
   "source": [
    "spot_name.find('span', attrs={'class':'badge'}).extract()"
   ]
  },
  {
   "cell_type": "code",
   "execution_count": 8,
   "metadata": {},
   "outputs": [
    {
     "data": {
      "text/plain": [
       "<div class=\"u_title col s12\">\n",
       "<p><h2>観光地 1</h2></p>\n",
       "</div>"
      ]
     },
     "execution_count": 8,
     "metadata": {},
     "output_type": "execute_result"
    }
   ],
   "source": [
    "spot_name"
   ]
  },
  {
   "cell_type": "code",
   "execution_count": 9,
   "metadata": {},
   "outputs": [
    {
     "data": {
      "text/plain": [
       "'観光地 1'"
      ]
     },
     "execution_count": 9,
     "metadata": {},
     "output_type": "execute_result"
    }
   ],
   "source": [
    "spot_name = spot_name.text.replace('\\n', '')\n",
    "spot_name"
   ]
  },
  {
   "cell_type": "code",
   "execution_count": 10,
   "metadata": {},
   "outputs": [],
   "source": [
    "# 評点\n",
    "eval_num = spot.find('div', attrs={'class':'u_rankBox'}).text\n",
    "eval_num = float(eval_num.replace('\\n', ''))"
   ]
  },
  {
   "cell_type": "code",
   "execution_count": 11,
   "metadata": {},
   "outputs": [
    {
     "data": {
      "text/plain": [
       "4.7"
      ]
     },
     "execution_count": 11,
     "metadata": {},
     "output_type": "execute_result"
    }
   ],
   "source": [
    "eval_num"
   ]
  },
  {
   "cell_type": "code",
   "execution_count": 12,
   "metadata": {},
   "outputs": [
    {
     "data": {
      "text/plain": [
       "<div class=\"u_categoryTipsItem col s12\">\n",
       "<dl>\n",
       "<dt>楽しさ</dt>\n",
       "<dd class=\"is_rank\"><span class=\"evaluateNumber\">4.6</span></dd>\n",
       "<dd class=\"comment\">１日中飽きることなく遊び続けられた</dd>\n",
       "</dl>\n",
       "<dl>\n",
       "<dt>人混みの多さ</dt>\n",
       "<dd class=\"is_rank\"><span class=\"evaluateNumber\">4.5</span></dd>\n",
       "<dd class=\"comment\">非常に混んでいた</dd>\n",
       "</dl>\n",
       "<dl>\n",
       "<dt>景色</dt>\n",
       "<dd class=\"is_rank\"><span class=\"evaluateNumber\">4.9</span></dd>\n",
       "<dd class=\"comment\">時を忘れるような壮大さであった</dd>\n",
       "</dl>\n",
       "<dl>\n",
       "<dt>アクセス</dt>\n",
       "<dd class=\"is_rank\"><span class=\"evaluateNumber\">4.2</span></dd>\n",
       "<dd class=\"comment\">飛行機で1時間ほどで着きました</dd>\n",
       "</dl>\n",
       "</div>"
      ]
     },
     "execution_count": 12,
     "metadata": {},
     "output_type": "execute_result"
    }
   ],
   "source": [
    "categoryItems = spot.find('div', attrs={'class':'u_categoryTipsItem'})\n",
    "categoryItems"
   ]
  },
  {
   "cell_type": "code",
   "execution_count": 13,
   "metadata": {},
   "outputs": [
    {
     "data": {
      "text/plain": [
       "[<dl>\n",
       " <dt>楽しさ</dt>\n",
       " <dd class=\"is_rank\"><span class=\"evaluateNumber\">4.6</span></dd>\n",
       " <dd class=\"comment\">１日中飽きることなく遊び続けられた</dd>\n",
       " </dl>,\n",
       " <dl>\n",
       " <dt>人混みの多さ</dt>\n",
       " <dd class=\"is_rank\"><span class=\"evaluateNumber\">4.5</span></dd>\n",
       " <dd class=\"comment\">非常に混んでいた</dd>\n",
       " </dl>,\n",
       " <dl>\n",
       " <dt>景色</dt>\n",
       " <dd class=\"is_rank\"><span class=\"evaluateNumber\">4.9</span></dd>\n",
       " <dd class=\"comment\">時を忘れるような壮大さであった</dd>\n",
       " </dl>,\n",
       " <dl>\n",
       " <dt>アクセス</dt>\n",
       " <dd class=\"is_rank\"><span class=\"evaluateNumber\">4.2</span></dd>\n",
       " <dd class=\"comment\">飛行機で1時間ほどで着きました</dd>\n",
       " </dl>]"
      ]
     },
     "execution_count": 13,
     "metadata": {},
     "output_type": "execute_result"
    }
   ],
   "source": [
    "categoryItems = categoryItems.find_all('dl')\n",
    "categoryItems"
   ]
  },
  {
   "cell_type": "code",
   "execution_count": 14,
   "metadata": {},
   "outputs": [
    {
     "data": {
      "text/plain": [
       "<dl>\n",
       "<dt>楽しさ</dt>\n",
       "<dd class=\"is_rank\"><span class=\"evaluateNumber\">4.6</span></dd>\n",
       "<dd class=\"comment\">１日中飽きることなく遊び続けられた</dd>\n",
       "</dl>"
      ]
     },
     "execution_count": 14,
     "metadata": {},
     "output_type": "execute_result"
    }
   ],
   "source": [
    "# 楽しさのみ取得\n",
    "categoryItem = categoryItems[0]\n",
    "categoryItem"
   ]
  },
  {
   "cell_type": "code",
   "execution_count": 15,
   "metadata": {},
   "outputs": [
    {
     "data": {
      "text/plain": [
       "'楽しさ'"
      ]
     },
     "execution_count": 15,
     "metadata": {},
     "output_type": "execute_result"
    }
   ],
   "source": [
    "category = categoryItem.dt.text\n",
    "category"
   ]
  },
  {
   "cell_type": "code",
   "execution_count": 16,
   "metadata": {},
   "outputs": [
    {
     "data": {
      "text/plain": [
       "4.6"
      ]
     },
     "execution_count": 16,
     "metadata": {},
     "output_type": "execute_result"
    }
   ],
   "source": [
    "rank = float(categoryItem.span.text)\n",
    "rank"
   ]
  },
  {
   "cell_type": "code",
   "execution_count": 17,
   "metadata": {},
   "outputs": [],
   "source": [
    "details = {}\n",
    "\n",
    "for categoryItem in categoryItems:\n",
    "  category = categoryItem.dt.text\n",
    "  rank = float(categoryItem.span.text)\n",
    "  details[category] = rank"
   ]
  },
  {
   "cell_type": "code",
   "execution_count": 18,
   "metadata": {},
   "outputs": [
    {
     "data": {
      "text/plain": [
       "{'楽しさ': 4.6, '人混みの多さ': 4.5, '景色': 4.9, 'アクセス': 4.2}"
      ]
     },
     "execution_count": 18,
     "metadata": {},
     "output_type": "execute_result"
    }
   ],
   "source": [
    "details"
   ]
  },
  {
   "cell_type": "code",
   "execution_count": 19,
   "metadata": {},
   "outputs": [],
   "source": [
    "datum = details\n",
    "datum['観光地名'] = spot_name\n",
    "datum['評点'] = eval_num"
   ]
  },
  {
   "cell_type": "code",
   "execution_count": 20,
   "metadata": {},
   "outputs": [
    {
     "data": {
      "text/plain": [
       "{'楽しさ': 4.6, '人混みの多さ': 4.5, '景色': 4.9, 'アクセス': 4.2, '観光地名': '観光地 1', '評点': 4.7}"
      ]
     },
     "execution_count": 20,
     "metadata": {},
     "output_type": "execute_result"
    }
   ],
   "source": [
    "datum"
   ]
  },
  {
   "cell_type": "code",
   "execution_count": 21,
   "metadata": {},
   "outputs": [],
   "source": [
    "soup = BeautifulSoup(res.text, 'html.parser')\n",
    "\n",
    "data = []\n",
    "\n",
    "spots = soup.find_all('div', attrs={'class':'u_areaListRankingBox'})\n",
    "for spot in spots:\n",
    "  spot_name = spot.find('div', attrs={'class':'u_title'})\n",
    "\n",
    "  spot_name.find('span', attrs={'class':'badge'}).extract()\n",
    "\n",
    "  spot_name = spot_name.text.replace('\\n', '')\n",
    "\n",
    "  eval_num = spot.find('div', attrs={'class':'u_rankBox'}).text\n",
    "  eval_num = float(eval_num.replace('\\n', ''))\n",
    "\n",
    "  categoryItems = spot.find('div', attrs={'class':'u_categoryTipsItem'})\n",
    "  categoryItems = categoryItems.find_all('dl')\n",
    "\n",
    "  details = {}\n",
    "\n",
    "  for categoryItem in categoryItems:\n",
    "    category = categoryItem.dt.text\n",
    "    rank = float(categoryItem.span.text)\n",
    "    \n",
    "    details[category] = rank\n",
    "\n",
    "  datum = details\n",
    "  datum['観光地名'] = spot_name\n",
    "  datum['評点'] = eval_num\n",
    "\n",
    "  data.append(datum)"
   ]
  },
  {
   "cell_type": "code",
   "execution_count": 22,
   "metadata": {},
   "outputs": [
    {
     "data": {
      "text/plain": [
       "[{'楽しさ': 4.6,\n",
       "  '人混みの多さ': 4.5,\n",
       "  '景色': 4.9,\n",
       "  'アクセス': 4.2,\n",
       "  '観光地名': '観光地 1',\n",
       "  '評点': 4.7},\n",
       " {'楽しさ': 4.6,\n",
       "  '人混みの多さ': 4.5,\n",
       "  '景色': 4.9,\n",
       "  'アクセス': 4.2,\n",
       "  '観光地名': '観光地 2',\n",
       "  '評点': 4.7},\n",
       " {'楽しさ': 4.5,\n",
       "  '人混みの多さ': 4.4,\n",
       "  '景色': 4.8,\n",
       "  'アクセス': 4.1,\n",
       "  '観光地名': '観光地 3',\n",
       "  '評点': 4.6},\n",
       " {'楽しさ': 4.4,\n",
       "  '人混みの多さ': 4.4,\n",
       "  '景色': 4.8,\n",
       "  'アクセス': 4.0,\n",
       "  '観光地名': '観光地 4',\n",
       "  '評点': 4.5},\n",
       " {'楽しさ': 4.4,\n",
       "  '人混みの多さ': 4.3,\n",
       "  '景色': 4.7,\n",
       "  'アクセス': 4.0,\n",
       "  '観光地名': '観光地 5',\n",
       "  '評点': 4.5},\n",
       " {'楽しさ': 4.3,\n",
       "  '人混みの多さ': 4.3,\n",
       "  '景色': 4.7,\n",
       "  'アクセス': 3.9,\n",
       "  '観光地名': '観光地 6',\n",
       "  '評点': 4.4},\n",
       " {'楽しさ': 4.2,\n",
       "  '人混みの多さ': 4.2,\n",
       "  '景色': 4.6,\n",
       "  'アクセス': 3.8,\n",
       "  '観光地名': '観光地 7',\n",
       "  '評点': 4.3},\n",
       " {'楽しさ': 4.2,\n",
       "  '人混みの多さ': 4.2,\n",
       "  '景色': 4.6,\n",
       "  'アクセス': 3.8,\n",
       "  '観光地名': '観光地 8',\n",
       "  '評点': 4.3},\n",
       " {'楽しさ': 4.1,\n",
       "  '人混みの多さ': 4.1,\n",
       "  '景色': 4.5,\n",
       "  'アクセス': 3.7,\n",
       "  '観光地名': '観光地 9',\n",
       "  '評点': 4.2},\n",
       " {'楽しさ': 4.0,\n",
       "  '人混みの多さ': 4.1,\n",
       "  '景色': 4.4,\n",
       "  'アクセス': 3.6,\n",
       "  '観光地名': '観光地 10',\n",
       "  '評点': 4.1}]"
      ]
     },
     "execution_count": 22,
     "metadata": {},
     "output_type": "execute_result"
    }
   ],
   "source": [
    "data"
   ]
  },
  {
   "cell_type": "code",
   "execution_count": 23,
   "metadata": {},
   "outputs": [],
   "source": [
    "import pandas as pd"
   ]
  },
  {
   "cell_type": "code",
   "execution_count": 24,
   "metadata": {},
   "outputs": [],
   "source": [
    "df = pd.DataFrame(data)"
   ]
  },
  {
   "cell_type": "code",
   "execution_count": 25,
   "metadata": {},
   "outputs": [
    {
     "data": {
      "text/html": [
       "<div>\n",
       "<style scoped>\n",
       "    .dataframe tbody tr th:only-of-type {\n",
       "        vertical-align: middle;\n",
       "    }\n",
       "\n",
       "    .dataframe tbody tr th {\n",
       "        vertical-align: top;\n",
       "    }\n",
       "\n",
       "    .dataframe thead th {\n",
       "        text-align: right;\n",
       "    }\n",
       "</style>\n",
       "<table border=\"1\" class=\"dataframe\">\n",
       "  <thead>\n",
       "    <tr style=\"text-align: right;\">\n",
       "      <th></th>\n",
       "      <th>楽しさ</th>\n",
       "      <th>人混みの多さ</th>\n",
       "      <th>景色</th>\n",
       "      <th>アクセス</th>\n",
       "      <th>観光地名</th>\n",
       "      <th>評点</th>\n",
       "    </tr>\n",
       "  </thead>\n",
       "  <tbody>\n",
       "    <tr>\n",
       "      <th>0</th>\n",
       "      <td>4.6</td>\n",
       "      <td>4.5</td>\n",
       "      <td>4.9</td>\n",
       "      <td>4.2</td>\n",
       "      <td>観光地 1</td>\n",
       "      <td>4.7</td>\n",
       "    </tr>\n",
       "    <tr>\n",
       "      <th>1</th>\n",
       "      <td>4.6</td>\n",
       "      <td>4.5</td>\n",
       "      <td>4.9</td>\n",
       "      <td>4.2</td>\n",
       "      <td>観光地 2</td>\n",
       "      <td>4.7</td>\n",
       "    </tr>\n",
       "    <tr>\n",
       "      <th>2</th>\n",
       "      <td>4.5</td>\n",
       "      <td>4.4</td>\n",
       "      <td>4.8</td>\n",
       "      <td>4.1</td>\n",
       "      <td>観光地 3</td>\n",
       "      <td>4.6</td>\n",
       "    </tr>\n",
       "    <tr>\n",
       "      <th>3</th>\n",
       "      <td>4.4</td>\n",
       "      <td>4.4</td>\n",
       "      <td>4.8</td>\n",
       "      <td>4.0</td>\n",
       "      <td>観光地 4</td>\n",
       "      <td>4.5</td>\n",
       "    </tr>\n",
       "    <tr>\n",
       "      <th>4</th>\n",
       "      <td>4.4</td>\n",
       "      <td>4.3</td>\n",
       "      <td>4.7</td>\n",
       "      <td>4.0</td>\n",
       "      <td>観光地 5</td>\n",
       "      <td>4.5</td>\n",
       "    </tr>\n",
       "    <tr>\n",
       "      <th>5</th>\n",
       "      <td>4.3</td>\n",
       "      <td>4.3</td>\n",
       "      <td>4.7</td>\n",
       "      <td>3.9</td>\n",
       "      <td>観光地 6</td>\n",
       "      <td>4.4</td>\n",
       "    </tr>\n",
       "    <tr>\n",
       "      <th>6</th>\n",
       "      <td>4.2</td>\n",
       "      <td>4.2</td>\n",
       "      <td>4.6</td>\n",
       "      <td>3.8</td>\n",
       "      <td>観光地 7</td>\n",
       "      <td>4.3</td>\n",
       "    </tr>\n",
       "    <tr>\n",
       "      <th>7</th>\n",
       "      <td>4.2</td>\n",
       "      <td>4.2</td>\n",
       "      <td>4.6</td>\n",
       "      <td>3.8</td>\n",
       "      <td>観光地 8</td>\n",
       "      <td>4.3</td>\n",
       "    </tr>\n",
       "    <tr>\n",
       "      <th>8</th>\n",
       "      <td>4.1</td>\n",
       "      <td>4.1</td>\n",
       "      <td>4.5</td>\n",
       "      <td>3.7</td>\n",
       "      <td>観光地 9</td>\n",
       "      <td>4.2</td>\n",
       "    </tr>\n",
       "    <tr>\n",
       "      <th>9</th>\n",
       "      <td>4.0</td>\n",
       "      <td>4.1</td>\n",
       "      <td>4.4</td>\n",
       "      <td>3.6</td>\n",
       "      <td>観光地 10</td>\n",
       "      <td>4.1</td>\n",
       "    </tr>\n",
       "  </tbody>\n",
       "</table>\n",
       "</div>"
      ],
      "text/plain": [
       "   楽しさ  人混みの多さ   景色  アクセス    観光地名   評点\n",
       "0  4.6     4.5  4.9   4.2   観光地 1  4.7\n",
       "1  4.6     4.5  4.9   4.2   観光地 2  4.7\n",
       "2  4.5     4.4  4.8   4.1   観光地 3  4.6\n",
       "3  4.4     4.4  4.8   4.0   観光地 4  4.5\n",
       "4  4.4     4.3  4.7   4.0   観光地 5  4.5\n",
       "5  4.3     4.3  4.7   3.9   観光地 6  4.4\n",
       "6  4.2     4.2  4.6   3.8   観光地 7  4.3\n",
       "7  4.2     4.2  4.6   3.8   観光地 8  4.3\n",
       "8  4.1     4.1  4.5   3.7   観光地 9  4.2\n",
       "9  4.0     4.1  4.4   3.6  観光地 10  4.1"
      ]
     },
     "execution_count": 25,
     "metadata": {},
     "output_type": "execute_result"
    }
   ],
   "source": [
    "df"
   ]
  },
  {
   "cell_type": "code",
   "execution_count": 26,
   "metadata": {},
   "outputs": [
    {
     "data": {
      "text/plain": [
       "Index(['楽しさ', '人混みの多さ', '景色', 'アクセス', '観光地名', '評点'], dtype='object')"
      ]
     },
     "execution_count": 26,
     "metadata": {},
     "output_type": "execute_result"
    }
   ],
   "source": [
    "df.columns"
   ]
  },
  {
   "cell_type": "code",
   "execution_count": 27,
   "metadata": {},
   "outputs": [
    {
     "data": {
      "text/html": [
       "<div>\n",
       "<style scoped>\n",
       "    .dataframe tbody tr th:only-of-type {\n",
       "        vertical-align: middle;\n",
       "    }\n",
       "\n",
       "    .dataframe tbody tr th {\n",
       "        vertical-align: top;\n",
       "    }\n",
       "\n",
       "    .dataframe thead th {\n",
       "        text-align: right;\n",
       "    }\n",
       "</style>\n",
       "<table border=\"1\" class=\"dataframe\">\n",
       "  <thead>\n",
       "    <tr style=\"text-align: right;\">\n",
       "      <th></th>\n",
       "      <th>楽しさ</th>\n",
       "      <th>人混みの多さ</th>\n",
       "      <th>景色</th>\n",
       "      <th>アクセス</th>\n",
       "      <th>観光地名</th>\n",
       "      <th>評点</th>\n",
       "    </tr>\n",
       "  </thead>\n",
       "  <tbody>\n",
       "    <tr>\n",
       "      <th>0</th>\n",
       "      <td>4.6</td>\n",
       "      <td>4.5</td>\n",
       "      <td>4.9</td>\n",
       "      <td>4.2</td>\n",
       "      <td>観光地 1</td>\n",
       "      <td>4.7</td>\n",
       "    </tr>\n",
       "    <tr>\n",
       "      <th>1</th>\n",
       "      <td>4.6</td>\n",
       "      <td>4.5</td>\n",
       "      <td>4.9</td>\n",
       "      <td>4.2</td>\n",
       "      <td>観光地 2</td>\n",
       "      <td>4.7</td>\n",
       "    </tr>\n",
       "    <tr>\n",
       "      <th>2</th>\n",
       "      <td>4.5</td>\n",
       "      <td>4.4</td>\n",
       "      <td>4.8</td>\n",
       "      <td>4.1</td>\n",
       "      <td>観光地 3</td>\n",
       "      <td>4.6</td>\n",
       "    </tr>\n",
       "    <tr>\n",
       "      <th>3</th>\n",
       "      <td>4.4</td>\n",
       "      <td>4.4</td>\n",
       "      <td>4.8</td>\n",
       "      <td>4.0</td>\n",
       "      <td>観光地 4</td>\n",
       "      <td>4.5</td>\n",
       "    </tr>\n",
       "    <tr>\n",
       "      <th>4</th>\n",
       "      <td>4.4</td>\n",
       "      <td>4.3</td>\n",
       "      <td>4.7</td>\n",
       "      <td>4.0</td>\n",
       "      <td>観光地 5</td>\n",
       "      <td>4.5</td>\n",
       "    </tr>\n",
       "    <tr>\n",
       "      <th>5</th>\n",
       "      <td>4.3</td>\n",
       "      <td>4.3</td>\n",
       "      <td>4.7</td>\n",
       "      <td>3.9</td>\n",
       "      <td>観光地 6</td>\n",
       "      <td>4.4</td>\n",
       "    </tr>\n",
       "    <tr>\n",
       "      <th>6</th>\n",
       "      <td>4.2</td>\n",
       "      <td>4.2</td>\n",
       "      <td>4.6</td>\n",
       "      <td>3.8</td>\n",
       "      <td>観光地 7</td>\n",
       "      <td>4.3</td>\n",
       "    </tr>\n",
       "    <tr>\n",
       "      <th>7</th>\n",
       "      <td>4.2</td>\n",
       "      <td>4.2</td>\n",
       "      <td>4.6</td>\n",
       "      <td>3.8</td>\n",
       "      <td>観光地 8</td>\n",
       "      <td>4.3</td>\n",
       "    </tr>\n",
       "    <tr>\n",
       "      <th>8</th>\n",
       "      <td>4.1</td>\n",
       "      <td>4.1</td>\n",
       "      <td>4.5</td>\n",
       "      <td>3.7</td>\n",
       "      <td>観光地 9</td>\n",
       "      <td>4.2</td>\n",
       "    </tr>\n",
       "    <tr>\n",
       "      <th>9</th>\n",
       "      <td>4.0</td>\n",
       "      <td>4.1</td>\n",
       "      <td>4.4</td>\n",
       "      <td>3.6</td>\n",
       "      <td>観光地 10</td>\n",
       "      <td>4.1</td>\n",
       "    </tr>\n",
       "  </tbody>\n",
       "</table>\n",
       "</div>"
      ],
      "text/plain": [
       "   楽しさ  人混みの多さ   景色  アクセス    観光地名   評点\n",
       "0  4.6     4.5  4.9   4.2   観光地 1  4.7\n",
       "1  4.6     4.5  4.9   4.2   観光地 2  4.7\n",
       "2  4.5     4.4  4.8   4.1   観光地 3  4.6\n",
       "3  4.4     4.4  4.8   4.0   観光地 4  4.5\n",
       "4  4.4     4.3  4.7   4.0   観光地 5  4.5\n",
       "5  4.3     4.3  4.7   3.9   観光地 6  4.4\n",
       "6  4.2     4.2  4.6   3.8   観光地 7  4.3\n",
       "7  4.2     4.2  4.6   3.8   観光地 8  4.3\n",
       "8  4.1     4.1  4.5   3.7   観光地 9  4.2\n",
       "9  4.0     4.1  4.4   3.6  観光地 10  4.1"
      ]
     },
     "execution_count": 27,
     "metadata": {},
     "output_type": "execute_result"
    }
   ],
   "source": [
    "df[['楽しさ', '人混みの多さ', '景色', 'アクセス', '観光地名', '評点']]"
   ]
  },
  {
   "cell_type": "code",
   "execution_count": 28,
   "metadata": {},
   "outputs": [],
   "source": [
    "df = df[['観光地名', '評点', 'アクセス', '人混みの多さ', '景色', '楽しさ']]"
   ]
  },
  {
   "cell_type": "code",
   "execution_count": 29,
   "metadata": {},
   "outputs": [
    {
     "data": {
      "text/html": [
       "<div>\n",
       "<style scoped>\n",
       "    .dataframe tbody tr th:only-of-type {\n",
       "        vertical-align: middle;\n",
       "    }\n",
       "\n",
       "    .dataframe tbody tr th {\n",
       "        vertical-align: top;\n",
       "    }\n",
       "\n",
       "    .dataframe thead th {\n",
       "        text-align: right;\n",
       "    }\n",
       "</style>\n",
       "<table border=\"1\" class=\"dataframe\">\n",
       "  <thead>\n",
       "    <tr style=\"text-align: right;\">\n",
       "      <th></th>\n",
       "      <th>観光地名</th>\n",
       "      <th>評点</th>\n",
       "      <th>アクセス</th>\n",
       "      <th>人混みの多さ</th>\n",
       "      <th>景色</th>\n",
       "      <th>楽しさ</th>\n",
       "    </tr>\n",
       "  </thead>\n",
       "  <tbody>\n",
       "    <tr>\n",
       "      <th>0</th>\n",
       "      <td>観光地 1</td>\n",
       "      <td>4.7</td>\n",
       "      <td>4.2</td>\n",
       "      <td>4.5</td>\n",
       "      <td>4.9</td>\n",
       "      <td>4.6</td>\n",
       "    </tr>\n",
       "    <tr>\n",
       "      <th>1</th>\n",
       "      <td>観光地 2</td>\n",
       "      <td>4.7</td>\n",
       "      <td>4.2</td>\n",
       "      <td>4.5</td>\n",
       "      <td>4.9</td>\n",
       "      <td>4.6</td>\n",
       "    </tr>\n",
       "    <tr>\n",
       "      <th>2</th>\n",
       "      <td>観光地 3</td>\n",
       "      <td>4.6</td>\n",
       "      <td>4.1</td>\n",
       "      <td>4.4</td>\n",
       "      <td>4.8</td>\n",
       "      <td>4.5</td>\n",
       "    </tr>\n",
       "    <tr>\n",
       "      <th>3</th>\n",
       "      <td>観光地 4</td>\n",
       "      <td>4.5</td>\n",
       "      <td>4.0</td>\n",
       "      <td>4.4</td>\n",
       "      <td>4.8</td>\n",
       "      <td>4.4</td>\n",
       "    </tr>\n",
       "    <tr>\n",
       "      <th>4</th>\n",
       "      <td>観光地 5</td>\n",
       "      <td>4.5</td>\n",
       "      <td>4.0</td>\n",
       "      <td>4.3</td>\n",
       "      <td>4.7</td>\n",
       "      <td>4.4</td>\n",
       "    </tr>\n",
       "    <tr>\n",
       "      <th>5</th>\n",
       "      <td>観光地 6</td>\n",
       "      <td>4.4</td>\n",
       "      <td>3.9</td>\n",
       "      <td>4.3</td>\n",
       "      <td>4.7</td>\n",
       "      <td>4.3</td>\n",
       "    </tr>\n",
       "    <tr>\n",
       "      <th>6</th>\n",
       "      <td>観光地 7</td>\n",
       "      <td>4.3</td>\n",
       "      <td>3.8</td>\n",
       "      <td>4.2</td>\n",
       "      <td>4.6</td>\n",
       "      <td>4.2</td>\n",
       "    </tr>\n",
       "    <tr>\n",
       "      <th>7</th>\n",
       "      <td>観光地 8</td>\n",
       "      <td>4.3</td>\n",
       "      <td>3.8</td>\n",
       "      <td>4.2</td>\n",
       "      <td>4.6</td>\n",
       "      <td>4.2</td>\n",
       "    </tr>\n",
       "    <tr>\n",
       "      <th>8</th>\n",
       "      <td>観光地 9</td>\n",
       "      <td>4.2</td>\n",
       "      <td>3.7</td>\n",
       "      <td>4.1</td>\n",
       "      <td>4.5</td>\n",
       "      <td>4.1</td>\n",
       "    </tr>\n",
       "    <tr>\n",
       "      <th>9</th>\n",
       "      <td>観光地 10</td>\n",
       "      <td>4.1</td>\n",
       "      <td>3.6</td>\n",
       "      <td>4.1</td>\n",
       "      <td>4.4</td>\n",
       "      <td>4.0</td>\n",
       "    </tr>\n",
       "  </tbody>\n",
       "</table>\n",
       "</div>"
      ],
      "text/plain": [
       "     観光地名   評点  アクセス  人混みの多さ   景色  楽しさ\n",
       "0   観光地 1  4.7   4.2     4.5  4.9  4.6\n",
       "1   観光地 2  4.7   4.2     4.5  4.9  4.6\n",
       "2   観光地 3  4.6   4.1     4.4  4.8  4.5\n",
       "3   観光地 4  4.5   4.0     4.4  4.8  4.4\n",
       "4   観光地 5  4.5   4.0     4.3  4.7  4.4\n",
       "5   観光地 6  4.4   3.9     4.3  4.7  4.3\n",
       "6   観光地 7  4.3   3.8     4.2  4.6  4.2\n",
       "7   観光地 8  4.3   3.8     4.2  4.6  4.2\n",
       "8   観光地 9  4.2   3.7     4.1  4.5  4.1\n",
       "9  観光地 10  4.1   3.6     4.1  4.4  4.0"
      ]
     },
     "execution_count": 29,
     "metadata": {},
     "output_type": "execute_result"
    }
   ],
   "source": [
    "df"
   ]
  },
  {
   "cell_type": "code",
   "execution_count": 30,
   "metadata": {},
   "outputs": [],
   "source": [
    "df.to_csv('観光地情報.csv', index=False)"
   ]
  }
 ],
 "metadata": {
  "kernelspec": {
   "display_name": "Python 3",
   "language": "python",
   "name": "python3"
  },
  "language_info": {
   "codemirror_mode": {
    "name": "ipython",
    "version": 3
   },
   "file_extension": ".py",
   "mimetype": "text/x-python",
   "name": "python",
   "nbconvert_exporter": "python",
   "pygments_lexer": "ipython3",
   "version": "3.9.16"
  }
 },
 "nbformat": 4,
 "nbformat_minor": 2
}
